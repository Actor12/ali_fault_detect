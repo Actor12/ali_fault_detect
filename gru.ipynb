{
 "cells": [
  {
   "cell_type": "markdown",
   "metadata": {},
   "source": [
    "@Copyright tianchi 2022\n",
    "https://tianchi.aliyun.com/competition/entrance/531947/introduction?spm=5176.12281957.1004.3.5b713eafy3IvEA"
   ]
  },
  {
   "cell_type": "code",
   "execution_count": 137,
   "metadata": {},
   "outputs": [],
   "source": [
    "import pandas as pd\n",
    "import numpy as np\n",
    "import json\n",
    "import math\n",
    "import tensorflow as tf\n",
    "import os\n",
    "from sklearn.preprocessing import LabelEncoder\n",
    "from tensorflow.keras.utils import Sequence,to_categorical\n",
    "from sklearn.model_selection import StratifiedKFold\n",
    "from sklearn.metrics import f1_score\n",
    "from sklearn.utils import shuffle\n",
    "from tensorflow.keras.layers import Reshape,Flatten\n",
    "from tqdm import tqdm"
   ]
  },
  {
   "cell_type": "code",
   "execution_count": 2,
   "metadata": {},
   "outputs": [],
   "source": [
    "model_dir = \"./model/rnn_model/best_model.h5\"\n",
    "submit_dir = \"./data/submit/\""
   ]
  },
  {
   "cell_type": "code",
   "execution_count": 3,
   "metadata": {},
   "outputs": [],
   "source": [
    "df = pd.read_pickle(r'./feature_data/template_fea/cpu_diag_comp_sel_log_all_feature1h_3_sum.pkl') # 读取之前构造好的特征数据"
   ]
  },
  {
   "cell_type": "code",
   "execution_count": 4,
   "metadata": {},
   "outputs": [],
   "source": [
    "fea_cols = [i for i in list(df.columns) if i not in ['sn', 'collect_time_gap']]"
   ]
  },
  {
   "cell_type": "code",
   "execution_count": 162,
   "metadata": {},
   "outputs": [],
   "source": [
    "#制作一个迭代器，迭代器里面的每个元素是一个bt=n的step\n",
    "#https://blog.csdn.net/weixin_37737254/article/details/103884255\n",
    "class DataGenerator(Sequence):\n",
    "    def __init__(self, df, batch_size):\n",
    "        self.data = df\n",
    "        self.num = df.shape[0]\n",
    "        self.batch_size = batch_size\n",
    "        self.fea = fea_cols\n",
    "        \n",
    "    def __len__(self):\n",
    "        return math.ceil(self.num / self.batch_size)\n",
    "\n",
    "    def __getitem__(self,idx):\n",
    "        batch_data = self.data.iloc[idx*self.batch_size:(idx+1)*self.batch_size]\n",
    "        input_1 = np.array(batch_data[self.fea])\n",
    "        output = np.array(to_categorical(batch_data.label,4))\n",
    "\n",
    "        return input_1, output\n",
    "    "
   ]
  },
  {
   "cell_type": "code",
   "execution_count": 172,
   "metadata": {},
   "outputs": [],
   "source": [
    "def build_model(feature_num):\n",
    "    input_1 = tf.keras.Input(shape=(feature_num))\n",
    "    output_1 = tf.keras.layers.Dense(256, activation=\"relu\")(input_1)\n",
    "#     output = tf.keras.layers.Dense(128, activation=\"relu\")(output_1)\n",
    "#     dp = tf.keras.layers.Dropout(0.15)(output)\n",
    "    output = tf.keras.layers.Dense(64, activation=\"relu\")(output_1)\n",
    "    output = tf.keras.layers.Dense(4, activation=\"softmax\")(output)\n",
    "\n",
    "    model = tf.keras.Model(inputs=input_1, outputs=output)\n",
    "\n",
    "    return model"
   ]
  },
  {
   "cell_type": "markdown",
   "metadata": {},
   "source": [
    "# train"
   ]
  },
  {
   "cell_type": "code",
   "execution_count": 173,
   "metadata": {},
   "outputs": [],
   "source": [
    "df_train_label = pd.read_csv('./data/preliminary_train_label_dataset.csv')\n",
    "df_train_label_s = pd.read_csv('./data/preliminary_train_label_dataset_s.csv')\n",
    "df_train_label = pd.concat([df_train_label, df_train_label_s])  #12261+4410\n",
    "df_train_label = df_train_label.drop_duplicates(['sn','fault_time','label'])"
   ]
  },
  {
   "cell_type": "code",
   "execution_count": 174,
   "metadata": {},
   "outputs": [],
   "source": [
    "train = pd.merge(df[df.sn.isin(df_train_label.sn)],df_train_label, on='sn', how='left')\n",
    "train = train.drop(['sn', 'collect_time_gap', 'fault_time'], axis=1)\n",
    "train = shuffle(train)\n",
    "# y = df_data_train['label']\n",
    "# x = df_data_train.drop(['sn','collect_time_gap','fault_time','label'],axis=1)"
   ]
  },
  {
   "cell_type": "code",
   "execution_count": 175,
   "metadata": {},
   "outputs": [
    {
     "name": "stdout",
     "output_type": "stream",
     "text": [
      "3011\n",
      "4292\n"
     ]
    }
   ],
   "source": [
    "test_df = pd.read_csv('./data/preliminary_submit_dataset_a.csv',index_col=0).reset_index()\n",
    "print(len(test_df))\n",
    "test = pd.merge(df[df.sn.isin(test_df.sn)],test_df, on='sn', how='left')\n",
    "print(len(test))\n",
    "test = test.drop(['sn', 'collect_time_gap', 'fault_time'], axis=1)\n",
    "test['label'] = -1   #为了能让DataGenerator读入"
   ]
  },
  {
   "cell_type": "code",
   "execution_count": 176,
   "metadata": {},
   "outputs": [
    {
     "data": {
      "text/plain": [
       "4292"
      ]
     },
     "execution_count": 176,
     "metadata": {},
     "output_type": "execute_result"
    }
   ],
   "source": [
    "len(test)"
   ]
  },
  {
   "cell_type": "code",
   "execution_count": 177,
   "metadata": {},
   "outputs": [],
   "source": [
    "# new_train = DataGenerator(train[:40000],100)\n",
    "# next(iter(new_train))"
   ]
  },
  {
   "cell_type": "code",
   "execution_count": 178,
   "metadata": {},
   "outputs": [],
   "source": [
    "def Macro_f1(y_true,y_pred):\n",
    "    every_class_f1 = f1_score(y_true, y_pred, average=None)  #list  包含每类的f1score\n",
    "    macro_f1 =  3/7*every_class_f1[0]+2/7*every_class_f1[1]+1/7*every_class_f1[2]+1/7*every_class_f1[3]\n",
    "    return 'maroc_f1',macro_f1"
   ]
  },
  {
   "cell_type": "code",
   "execution_count": 180,
   "metadata": {},
   "outputs": [
    {
     "name": "stdout",
     "output_type": "stream",
     "text": [
      "Model: \"model_10\"\n",
      "_________________________________________________________________\n",
      "Layer (type)                 Output Shape              Param #   \n",
      "=================================================================\n",
      "input_23 (InputLayer)        [(None, 206)]             0         \n",
      "_________________________________________________________________\n",
      "dense_31 (Dense)             (None, 256)               52992     \n",
      "_________________________________________________________________\n",
      "dense_32 (Dense)             (None, 64)                16448     \n",
      "_________________________________________________________________\n",
      "dense_33 (Dense)             (None, 4)                 260       \n",
      "=================================================================\n",
      "Total params: 69,700\n",
      "Trainable params: 69,700\n",
      "Non-trainable params: 0\n",
      "_________________________________________________________________\n",
      "Epoch 1/20\n",
      "400/400 [==============================] - 1s 3ms/step - loss: 1.0965 - accuracy: 0.6884 - val_loss: 0.9645 - val_accuracy: 0.7457\n",
      "\n",
      "Epoch 00001: val_loss improved from inf to 0.96447, saving model to ./model/rnn_model\\best_model.h5\n",
      "WARNING:tensorflow:Early stopping conditioned on metric `val_acc` which is not available. Available metrics are: loss,accuracy,val_loss,val_accuracy\n",
      "WARNING:tensorflow:Learning rate reduction is conditioned on metric `val_acc` which is not available. Available metrics are: loss,accuracy,val_loss,val_accuracy,lr\n",
      "Epoch 2/20\n",
      "400/400 [==============================] - 1s 3ms/step - loss: 0.7977 - accuracy: 0.7470 - val_loss: 0.7686 - val_accuracy: 0.7382\n",
      "\n",
      "Epoch 00002: val_loss improved from 0.96447 to 0.76860, saving model to ./model/rnn_model\\best_model.h5\n",
      "WARNING:tensorflow:Early stopping conditioned on metric `val_acc` which is not available. Available metrics are: loss,accuracy,val_loss,val_accuracy\n",
      "WARNING:tensorflow:Learning rate reduction is conditioned on metric `val_acc` which is not available. Available metrics are: loss,accuracy,val_loss,val_accuracy,lr\n",
      "Epoch 3/20\n",
      "400/400 [==============================] - 1s 3ms/step - loss: 0.7258 - accuracy: 0.7548 - val_loss: 0.7279 - val_accuracy: 0.7526\n",
      "\n",
      "Epoch 00003: val_loss improved from 0.76860 to 0.72789, saving model to ./model/rnn_model\\best_model.h5\n",
      "WARNING:tensorflow:Early stopping conditioned on metric `val_acc` which is not available. Available metrics are: loss,accuracy,val_loss,val_accuracy\n",
      "WARNING:tensorflow:Learning rate reduction is conditioned on metric `val_acc` which is not available. Available metrics are: loss,accuracy,val_loss,val_accuracy,lr\n",
      "Epoch 4/20\n",
      "400/400 [==============================] - 1s 3ms/step - loss: 0.7035 - accuracy: 0.7599 - val_loss: 0.6825 - val_accuracy: 0.7516\n",
      "\n",
      "Epoch 00004: val_loss improved from 0.72789 to 0.68253, saving model to ./model/rnn_model\\best_model.h5\n",
      "WARNING:tensorflow:Early stopping conditioned on metric `val_acc` which is not available. Available metrics are: loss,accuracy,val_loss,val_accuracy\n",
      "WARNING:tensorflow:Learning rate reduction is conditioned on metric `val_acc` which is not available. Available metrics are: loss,accuracy,val_loss,val_accuracy,lr\n",
      "Epoch 5/20\n",
      "400/400 [==============================] - 1s 3ms/step - loss: 0.6717 - accuracy: 0.7610 - val_loss: 0.6743 - val_accuracy: 0.7552\n",
      "\n",
      "Epoch 00005: val_loss improved from 0.68253 to 0.67432, saving model to ./model/rnn_model\\best_model.h5\n",
      "WARNING:tensorflow:Early stopping conditioned on metric `val_acc` which is not available. Available metrics are: loss,accuracy,val_loss,val_accuracy\n",
      "WARNING:tensorflow:Learning rate reduction is conditioned on metric `val_acc` which is not available. Available metrics are: loss,accuracy,val_loss,val_accuracy,lr\n",
      "Epoch 6/20\n",
      "400/400 [==============================] - 1s 3ms/step - loss: 0.6535 - accuracy: 0.7641 - val_loss: 0.6737 - val_accuracy: 0.7557\n",
      "\n",
      "Epoch 00006: val_loss improved from 0.67432 to 0.67372, saving model to ./model/rnn_model\\best_model.h5\n",
      "WARNING:tensorflow:Early stopping conditioned on metric `val_acc` which is not available. Available metrics are: loss,accuracy,val_loss,val_accuracy\n",
      "WARNING:tensorflow:Learning rate reduction is conditioned on metric `val_acc` which is not available. Available metrics are: loss,accuracy,val_loss,val_accuracy,lr\n",
      "Epoch 7/20\n",
      "400/400 [==============================] - 1s 3ms/step - loss: 0.6452 - accuracy: 0.7658 - val_loss: 0.6610 - val_accuracy: 0.7579\n",
      "\n",
      "Epoch 00007: val_loss improved from 0.67372 to 0.66105, saving model to ./model/rnn_model\\best_model.h5\n",
      "WARNING:tensorflow:Early stopping conditioned on metric `val_acc` which is not available. Available metrics are: loss,accuracy,val_loss,val_accuracy\n",
      "WARNING:tensorflow:Learning rate reduction is conditioned on metric `val_acc` which is not available. Available metrics are: loss,accuracy,val_loss,val_accuracy,lr\n",
      "Epoch 8/20\n",
      "400/400 [==============================] - 1s 3ms/step - loss: 0.6405 - accuracy: 0.7663 - val_loss: 0.6618 - val_accuracy: 0.7620\n",
      "\n",
      "Epoch 00008: val_loss did not improve from 0.66105\n",
      "WARNING:tensorflow:Early stopping conditioned on metric `val_acc` which is not available. Available metrics are: loss,accuracy,val_loss,val_accuracy\n",
      "WARNING:tensorflow:Learning rate reduction is conditioned on metric `val_acc` which is not available. Available metrics are: loss,accuracy,val_loss,val_accuracy,lr\n",
      "Epoch 9/20\n",
      "400/400 [==============================] - 1s 3ms/step - loss: 0.6299 - accuracy: 0.7681 - val_loss: 0.6524 - val_accuracy: 0.7616\n",
      "\n",
      "Epoch 00009: val_loss improved from 0.66105 to 0.65243, saving model to ./model/rnn_model\\best_model.h5\n",
      "WARNING:tensorflow:Early stopping conditioned on metric `val_acc` which is not available. Available metrics are: loss,accuracy,val_loss,val_accuracy\n",
      "WARNING:tensorflow:Learning rate reduction is conditioned on metric `val_acc` which is not available. Available metrics are: loss,accuracy,val_loss,val_accuracy,lr\n",
      "Epoch 10/20\n",
      "400/400 [==============================] - 1s 3ms/step - loss: 0.6259 - accuracy: 0.7707 - val_loss: 0.6556 - val_accuracy: 0.7625\n",
      "\n",
      "Epoch 00010: val_loss did not improve from 0.65243\n",
      "WARNING:tensorflow:Early stopping conditioned on metric `val_acc` which is not available. Available metrics are: loss,accuracy,val_loss,val_accuracy\n",
      "WARNING:tensorflow:Learning rate reduction is conditioned on metric `val_acc` which is not available. Available metrics are: loss,accuracy,val_loss,val_accuracy,lr\n",
      "Epoch 11/20\n",
      "400/400 [==============================] - 1s 3ms/step - loss: 0.6235 - accuracy: 0.7703 - val_loss: 0.6555 - val_accuracy: 0.7652\n",
      "\n",
      "Epoch 00011: val_loss did not improve from 0.65243\n",
      "WARNING:tensorflow:Early stopping conditioned on metric `val_acc` which is not available. Available metrics are: loss,accuracy,val_loss,val_accuracy\n",
      "WARNING:tensorflow:Learning rate reduction is conditioned on metric `val_acc` which is not available. Available metrics are: loss,accuracy,val_loss,val_accuracy,lr\n",
      "Epoch 12/20\n",
      "400/400 [==============================] - 1s 3ms/step - loss: 0.6178 - accuracy: 0.7719 - val_loss: 0.6552 - val_accuracy: 0.7603\n",
      "\n",
      "Epoch 00012: val_loss did not improve from 0.65243\n",
      "WARNING:tensorflow:Early stopping conditioned on metric `val_acc` which is not available. Available metrics are: loss,accuracy,val_loss,val_accuracy\n",
      "WARNING:tensorflow:Learning rate reduction is conditioned on metric `val_acc` which is not available. Available metrics are: loss,accuracy,val_loss,val_accuracy,lr\n",
      "Epoch 13/20\n",
      "400/400 [==============================] - 1s 3ms/step - loss: 0.6158 - accuracy: 0.7732 - val_loss: 0.6440 - val_accuracy: 0.7637\n",
      "\n",
      "Epoch 00013: val_loss improved from 0.65243 to 0.64402, saving model to ./model/rnn_model\\best_model.h5\n",
      "WARNING:tensorflow:Early stopping conditioned on metric `val_acc` which is not available. Available metrics are: loss,accuracy,val_loss,val_accuracy\n",
      "WARNING:tensorflow:Learning rate reduction is conditioned on metric `val_acc` which is not available. Available metrics are: loss,accuracy,val_loss,val_accuracy,lr\n",
      "Epoch 14/20\n",
      "400/400 [==============================] - 1s 3ms/step - loss: 0.6136 - accuracy: 0.7748 - val_loss: 0.6568 - val_accuracy: 0.7582\n",
      "\n",
      "Epoch 00014: val_loss did not improve from 0.64402\n",
      "WARNING:tensorflow:Early stopping conditioned on metric `val_acc` which is not available. Available metrics are: loss,accuracy,val_loss,val_accuracy\n"
     ]
    },
    {
     "name": "stdout",
     "output_type": "stream",
     "text": [
      "WARNING:tensorflow:Learning rate reduction is conditioned on metric `val_acc` which is not available. Available metrics are: loss,accuracy,val_loss,val_accuracy,lr\n",
      "Epoch 15/20\n",
      "400/400 [==============================] - 1s 3ms/step - loss: 0.6124 - accuracy: 0.7750 - val_loss: 0.6462 - val_accuracy: 0.7616\n",
      "\n",
      "Epoch 00015: val_loss did not improve from 0.64402\n",
      "WARNING:tensorflow:Early stopping conditioned on metric `val_acc` which is not available. Available metrics are: loss,accuracy,val_loss,val_accuracy\n",
      "WARNING:tensorflow:Learning rate reduction is conditioned on metric `val_acc` which is not available. Available metrics are: loss,accuracy,val_loss,val_accuracy,lr\n",
      "Epoch 16/20\n",
      "400/400 [==============================] - 1s 3ms/step - loss: 0.6073 - accuracy: 0.7754 - val_loss: 0.6576 - val_accuracy: 0.7655\n",
      "\n",
      "Epoch 00016: val_loss did not improve from 0.64402\n",
      "WARNING:tensorflow:Early stopping conditioned on metric `val_acc` which is not available. Available metrics are: loss,accuracy,val_loss,val_accuracy\n",
      "WARNING:tensorflow:Learning rate reduction is conditioned on metric `val_acc` which is not available. Available metrics are: loss,accuracy,val_loss,val_accuracy,lr\n",
      "Epoch 17/20\n",
      "400/400 [==============================] - 1s 3ms/step - loss: 0.6042 - accuracy: 0.7761 - val_loss: 0.6527 - val_accuracy: 0.7662\n",
      "\n",
      "Epoch 00017: val_loss did not improve from 0.64402\n",
      "WARNING:tensorflow:Early stopping conditioned on metric `val_acc` which is not available. Available metrics are: loss,accuracy,val_loss,val_accuracy\n",
      "WARNING:tensorflow:Learning rate reduction is conditioned on metric `val_acc` which is not available. Available metrics are: loss,accuracy,val_loss,val_accuracy,lr\n",
      "Epoch 18/20\n",
      "400/400 [==============================] - 1s 3ms/step - loss: 0.6026 - accuracy: 0.7777 - val_loss: 0.6546 - val_accuracy: 0.7596\n",
      "\n",
      "Epoch 00018: val_loss did not improve from 0.64402\n",
      "WARNING:tensorflow:Early stopping conditioned on metric `val_acc` which is not available. Available metrics are: loss,accuracy,val_loss,val_accuracy\n",
      "WARNING:tensorflow:Learning rate reduction is conditioned on metric `val_acc` which is not available. Available metrics are: loss,accuracy,val_loss,val_accuracy,lr\n",
      "Epoch 19/20\n",
      "400/400 [==============================] - 1s 3ms/step - loss: 0.5989 - accuracy: 0.7791 - val_loss: 0.6573 - val_accuracy: 0.7640\n",
      "\n",
      "Epoch 00019: val_loss did not improve from 0.64402\n",
      "WARNING:tensorflow:Early stopping conditioned on metric `val_acc` which is not available. Available metrics are: loss,accuracy,val_loss,val_accuracy\n",
      "WARNING:tensorflow:Learning rate reduction is conditioned on metric `val_acc` which is not available. Available metrics are: loss,accuracy,val_loss,val_accuracy,lr\n",
      "Epoch 20/20\n",
      "400/400 [==============================] - 1s 3ms/step - loss: 0.5988 - accuracy: 0.7781 - val_loss: 0.6549 - val_accuracy: 0.7633\n",
      "\n",
      "Epoch 00020: val_loss did not improve from 0.64402\n",
      "WARNING:tensorflow:Early stopping conditioned on metric `val_acc` which is not available. Available metrics are: loss,accuracy,val_loss,val_accuracy\n",
      "WARNING:tensorflow:Learning rate reduction is conditioned on metric `val_acc` which is not available. Available metrics are: loss,accuracy,val_loss,val_accuracy,lr\n",
      "得分：('maroc_f1', 0.5273656902530937)\n"
     ]
    }
   ],
   "source": [
    "new_test = DataGenerator(test,100)\n",
    "\n",
    "new_train = DataGenerator(train[:40000],100)\n",
    "new_val = DataGenerator(train[40000:],100)\n",
    "        \n",
    "model = build_model(feature_num=206)\n",
    "model.summary()\n",
    "\n",
    "model.compile(optimizer=tf.keras.optimizers.Adam(0.001),loss='categorical_crossentropy',metrics='accuracy')\n",
    "early_stopping = tf.keras.callbacks.EarlyStopping(monitor=\"val_acc\", patience=3, restore_best_weights=True)\n",
    "lr_reduce = tf.keras.callbacks.ReduceLROnPlateau(patience=2,monitor='val_acc', factor=0.1)\n",
    "best_checkpoint = tf.keras.callbacks.ModelCheckpoint(model_dir,save_best_only=True, save_weights_only=False,verbose=1)\n",
    "#model.fit(iter(train_bt),steps_per_epoch=len(train_bt),validation_data=iter(val_bt),validation_steps=len(val_bt),epochs=20,callbacks=[best_checkpoint,early_stopping,lr_reduce])\n",
    "#model.save('./data/model/model_fold{}.h5'.format(kf))\n",
    "model.fit_generator(generator=new_train,\n",
    "                    steps_per_epoch=len(new_train),\n",
    "                    epochs=20,\n",
    "                    verbose=1,\n",
    "                    validation_data=new_val,\n",
    "                    validation_steps=len(new_val),\n",
    "#                     use_multiprocessing=False,\n",
    "#                     workers=1,\n",
    "                    callbacks=[best_checkpoint,early_stopping,lr_reduce])\n",
    "    \n",
    "#重新加载当前折最优的模型\n",
    "best_model = tf.keras.models.load_model(model_dir)\n",
    "#测试集推理\n",
    "test_pred =  best_model.predict(new_test, steps=len(new_test))\n",
    "\n",
    "#验证集推理\n",
    "val_pred =  best_model.predict(new_val, steps=len(new_val))\n",
    "val_pred = [np.argmax(i) for i in val_pred]\n",
    "#计算整体验证集得分\n",
    "y_true = train.iloc[40000:]['label']\n",
    "score = Macro_f1(y_true,val_pred)\n",
    "print('得分：{}'.format(score))"
   ]
  },
  {
   "cell_type": "markdown",
   "metadata": {},
   "source": [
    "#### 多折交叉验证"
   ]
  },
  {
   "cell_type": "code",
   "execution_count": 30,
   "metadata": {
    "scrolled": true
   },
   "outputs": [
    {
     "name": "stdout",
     "output_type": "stream",
     "text": [
      "#####第1折####\n",
      "train len: 35288\n",
      "val len: 8822\n",
      "WARNING:tensorflow:Functional model inputs must come from `tf.keras.Input` (thus holding past layer metadata), they cannot be the output of a previous non-Input layer. Here, a tensor specified as input to \"model_1\" was not an Input tensor, it was generated by layer tf.expand_dims_1.\n",
      "Note that input tensors are instantiated via `tensor = tf.keras.Input(shape)`.\n",
      "The tensor that caused the issue was: tf.expand_dims_1/ExpandDims:0\n"
     ]
    },
    {
     "ename": "ValueError",
     "evalue": "Graph disconnected: cannot obtain value for tensor KerasTensor(type_spec=TensorSpec(shape=(None, 206), dtype=tf.float32, name='input_4'), name='input_4', description=\"created by layer 'input_4'\") at layer \"tf.expand_dims_1\". The following previous layers were accessed without issue: []",
     "output_type": "error",
     "traceback": [
      "\u001b[1;31m---------------------------------------------------------------------------\u001b[0m",
      "\u001b[1;31mValueError\u001b[0m                                Traceback (most recent call last)",
      "\u001b[1;32m<ipython-input-30-74e1e09b214c>\u001b[0m in \u001b[0;36m<module>\u001b[1;34m\u001b[0m\n\u001b[0;32m     22\u001b[0m \u001b[1;33m\u001b[0m\u001b[0m\n\u001b[0;32m     23\u001b[0m     \u001b[1;31m#model = tf.keras.models.load_model('./data/model/best_model.h5')\u001b[0m\u001b[1;33m\u001b[0m\u001b[1;33m\u001b[0m\u001b[1;33m\u001b[0m\u001b[0m\n\u001b[1;32m---> 24\u001b[1;33m     \u001b[0mmodel\u001b[0m \u001b[1;33m=\u001b[0m \u001b[0mbuild_model\u001b[0m\u001b[1;33m(\u001b[0m\u001b[0mfeature_num\u001b[0m\u001b[1;33m=\u001b[0m\u001b[1;36m206\u001b[0m\u001b[1;33m)\u001b[0m\u001b[1;33m\u001b[0m\u001b[1;33m\u001b[0m\u001b[0m\n\u001b[0m\u001b[0;32m     25\u001b[0m     \u001b[0mmodel\u001b[0m\u001b[1;33m.\u001b[0m\u001b[0mcompile\u001b[0m\u001b[1;33m(\u001b[0m\u001b[0moptimizer\u001b[0m\u001b[1;33m=\u001b[0m\u001b[0mtf\u001b[0m\u001b[1;33m.\u001b[0m\u001b[0mkeras\u001b[0m\u001b[1;33m.\u001b[0m\u001b[0moptimizers\u001b[0m\u001b[1;33m.\u001b[0m\u001b[0mAdam\u001b[0m\u001b[1;33m(\u001b[0m\u001b[1;36m0.0009\u001b[0m\u001b[1;33m)\u001b[0m\u001b[1;33m,\u001b[0m\u001b[0mloss\u001b[0m\u001b[1;33m=\u001b[0m\u001b[1;34m'categorical_crossentropy'\u001b[0m\u001b[1;33m,\u001b[0m\u001b[0mmetrics\u001b[0m\u001b[1;33m=\u001b[0m\u001b[1;34m'accuracy'\u001b[0m\u001b[1;33m)\u001b[0m\u001b[1;33m\u001b[0m\u001b[1;33m\u001b[0m\u001b[0m\n\u001b[0;32m     26\u001b[0m     \u001b[0mearly_stopping\u001b[0m \u001b[1;33m=\u001b[0m \u001b[0mtf\u001b[0m\u001b[1;33m.\u001b[0m\u001b[0mkeras\u001b[0m\u001b[1;33m.\u001b[0m\u001b[0mcallbacks\u001b[0m\u001b[1;33m.\u001b[0m\u001b[0mEarlyStopping\u001b[0m\u001b[1;33m(\u001b[0m\u001b[0mmonitor\u001b[0m\u001b[1;33m=\u001b[0m\u001b[1;34m\"val_acc\"\u001b[0m\u001b[1;33m,\u001b[0m \u001b[0mpatience\u001b[0m\u001b[1;33m=\u001b[0m\u001b[1;36m3\u001b[0m\u001b[1;33m,\u001b[0m \u001b[0mrestore_best_weights\u001b[0m\u001b[1;33m=\u001b[0m\u001b[1;32mTrue\u001b[0m\u001b[1;33m)\u001b[0m\u001b[1;33m\u001b[0m\u001b[1;33m\u001b[0m\u001b[0m\n",
      "\u001b[1;32m<ipython-input-22-221e325e01f1>\u001b[0m in \u001b[0;36mbuild_model\u001b[1;34m(feature_num)\u001b[0m\n\u001b[0;32m      9\u001b[0m     \u001b[0moutput\u001b[0m \u001b[1;33m=\u001b[0m \u001b[0mtf\u001b[0m\u001b[1;33m.\u001b[0m\u001b[0mkeras\u001b[0m\u001b[1;33m.\u001b[0m\u001b[0mlayers\u001b[0m\u001b[1;33m.\u001b[0m\u001b[0mDense\u001b[0m\u001b[1;33m(\u001b[0m\u001b[1;36m4\u001b[0m\u001b[1;33m,\u001b[0m \u001b[0mactivation\u001b[0m\u001b[1;33m=\u001b[0m\u001b[1;34m\"softmax\"\u001b[0m\u001b[1;33m)\u001b[0m\u001b[1;33m(\u001b[0m\u001b[0moutput\u001b[0m\u001b[1;33m)\u001b[0m\u001b[1;33m\u001b[0m\u001b[1;33m\u001b[0m\u001b[0m\n\u001b[0;32m     10\u001b[0m \u001b[1;33m\u001b[0m\u001b[0m\n\u001b[1;32m---> 11\u001b[1;33m     \u001b[0mmodel\u001b[0m \u001b[1;33m=\u001b[0m \u001b[0mtf\u001b[0m\u001b[1;33m.\u001b[0m\u001b[0mkeras\u001b[0m\u001b[1;33m.\u001b[0m\u001b[0mModel\u001b[0m\u001b[1;33m(\u001b[0m\u001b[0minputs\u001b[0m\u001b[1;33m=\u001b[0m\u001b[0minput_1\u001b[0m\u001b[1;33m,\u001b[0m \u001b[0moutputs\u001b[0m\u001b[1;33m=\u001b[0m\u001b[0moutput\u001b[0m\u001b[1;33m)\u001b[0m\u001b[1;33m\u001b[0m\u001b[1;33m\u001b[0m\u001b[0m\n\u001b[0m\u001b[0;32m     12\u001b[0m \u001b[1;33m\u001b[0m\u001b[0m\n\u001b[0;32m     13\u001b[0m     \u001b[1;32mreturn\u001b[0m \u001b[0mmodel\u001b[0m\u001b[1;33m\u001b[0m\u001b[1;33m\u001b[0m\u001b[0m\n",
      "\u001b[1;32mD:\\Anaconda3\\lib\\site-packages\\tensorflow\\python\\training\\tracking\\base.py\u001b[0m in \u001b[0;36m_method_wrapper\u001b[1;34m(self, *args, **kwargs)\u001b[0m\n\u001b[0;32m    528\u001b[0m     \u001b[0mself\u001b[0m\u001b[1;33m.\u001b[0m\u001b[0m_self_setattr_tracking\u001b[0m \u001b[1;33m=\u001b[0m \u001b[1;32mFalse\u001b[0m  \u001b[1;31m# pylint: disable=protected-access\u001b[0m\u001b[1;33m\u001b[0m\u001b[1;33m\u001b[0m\u001b[0m\n\u001b[0;32m    529\u001b[0m     \u001b[1;32mtry\u001b[0m\u001b[1;33m:\u001b[0m\u001b[1;33m\u001b[0m\u001b[1;33m\u001b[0m\u001b[0m\n\u001b[1;32m--> 530\u001b[1;33m       \u001b[0mresult\u001b[0m \u001b[1;33m=\u001b[0m \u001b[0mmethod\u001b[0m\u001b[1;33m(\u001b[0m\u001b[0mself\u001b[0m\u001b[1;33m,\u001b[0m \u001b[1;33m*\u001b[0m\u001b[0margs\u001b[0m\u001b[1;33m,\u001b[0m \u001b[1;33m**\u001b[0m\u001b[0mkwargs\u001b[0m\u001b[1;33m)\u001b[0m\u001b[1;33m\u001b[0m\u001b[1;33m\u001b[0m\u001b[0m\n\u001b[0m\u001b[0;32m    531\u001b[0m     \u001b[1;32mfinally\u001b[0m\u001b[1;33m:\u001b[0m\u001b[1;33m\u001b[0m\u001b[1;33m\u001b[0m\u001b[0m\n\u001b[0;32m    532\u001b[0m       \u001b[0mself\u001b[0m\u001b[1;33m.\u001b[0m\u001b[0m_self_setattr_tracking\u001b[0m \u001b[1;33m=\u001b[0m \u001b[0mprevious_value\u001b[0m  \u001b[1;31m# pylint: disable=protected-access\u001b[0m\u001b[1;33m\u001b[0m\u001b[1;33m\u001b[0m\u001b[0m\n",
      "\u001b[1;32mD:\\Anaconda3\\lib\\site-packages\\keras\\engine\\functional.py\u001b[0m in \u001b[0;36m__init__\u001b[1;34m(self, inputs, outputs, name, trainable, **kwargs)\u001b[0m\n\u001b[0;32m    107\u001b[0m     \u001b[0mgeneric_utils\u001b[0m\u001b[1;33m.\u001b[0m\u001b[0mvalidate_kwargs\u001b[0m\u001b[1;33m(\u001b[0m\u001b[0mkwargs\u001b[0m\u001b[1;33m,\u001b[0m \u001b[1;33m{\u001b[0m\u001b[1;33m}\u001b[0m\u001b[1;33m)\u001b[0m\u001b[1;33m\u001b[0m\u001b[1;33m\u001b[0m\u001b[0m\n\u001b[0;32m    108\u001b[0m     \u001b[0msuper\u001b[0m\u001b[1;33m(\u001b[0m\u001b[0mFunctional\u001b[0m\u001b[1;33m,\u001b[0m \u001b[0mself\u001b[0m\u001b[1;33m)\u001b[0m\u001b[1;33m.\u001b[0m\u001b[0m__init__\u001b[0m\u001b[1;33m(\u001b[0m\u001b[0mname\u001b[0m\u001b[1;33m=\u001b[0m\u001b[0mname\u001b[0m\u001b[1;33m,\u001b[0m \u001b[0mtrainable\u001b[0m\u001b[1;33m=\u001b[0m\u001b[0mtrainable\u001b[0m\u001b[1;33m)\u001b[0m\u001b[1;33m\u001b[0m\u001b[1;33m\u001b[0m\u001b[0m\n\u001b[1;32m--> 109\u001b[1;33m     \u001b[0mself\u001b[0m\u001b[1;33m.\u001b[0m\u001b[0m_init_graph_network\u001b[0m\u001b[1;33m(\u001b[0m\u001b[0minputs\u001b[0m\u001b[1;33m,\u001b[0m \u001b[0moutputs\u001b[0m\u001b[1;33m)\u001b[0m\u001b[1;33m\u001b[0m\u001b[1;33m\u001b[0m\u001b[0m\n\u001b[0m\u001b[0;32m    110\u001b[0m \u001b[1;33m\u001b[0m\u001b[0m\n\u001b[0;32m    111\u001b[0m   \u001b[1;33m@\u001b[0m\u001b[0mtf\u001b[0m\u001b[1;33m.\u001b[0m\u001b[0m__internal__\u001b[0m\u001b[1;33m.\u001b[0m\u001b[0mtracking\u001b[0m\u001b[1;33m.\u001b[0m\u001b[0mno_automatic_dependency_tracking\u001b[0m\u001b[1;33m\u001b[0m\u001b[1;33m\u001b[0m\u001b[0m\n",
      "\u001b[1;32mD:\\Anaconda3\\lib\\site-packages\\tensorflow\\python\\training\\tracking\\base.py\u001b[0m in \u001b[0;36m_method_wrapper\u001b[1;34m(self, *args, **kwargs)\u001b[0m\n\u001b[0;32m    528\u001b[0m     \u001b[0mself\u001b[0m\u001b[1;33m.\u001b[0m\u001b[0m_self_setattr_tracking\u001b[0m \u001b[1;33m=\u001b[0m \u001b[1;32mFalse\u001b[0m  \u001b[1;31m# pylint: disable=protected-access\u001b[0m\u001b[1;33m\u001b[0m\u001b[1;33m\u001b[0m\u001b[0m\n\u001b[0;32m    529\u001b[0m     \u001b[1;32mtry\u001b[0m\u001b[1;33m:\u001b[0m\u001b[1;33m\u001b[0m\u001b[1;33m\u001b[0m\u001b[0m\n\u001b[1;32m--> 530\u001b[1;33m       \u001b[0mresult\u001b[0m \u001b[1;33m=\u001b[0m \u001b[0mmethod\u001b[0m\u001b[1;33m(\u001b[0m\u001b[0mself\u001b[0m\u001b[1;33m,\u001b[0m \u001b[1;33m*\u001b[0m\u001b[0margs\u001b[0m\u001b[1;33m,\u001b[0m \u001b[1;33m**\u001b[0m\u001b[0mkwargs\u001b[0m\u001b[1;33m)\u001b[0m\u001b[1;33m\u001b[0m\u001b[1;33m\u001b[0m\u001b[0m\n\u001b[0m\u001b[0;32m    531\u001b[0m     \u001b[1;32mfinally\u001b[0m\u001b[1;33m:\u001b[0m\u001b[1;33m\u001b[0m\u001b[1;33m\u001b[0m\u001b[0m\n\u001b[0;32m    532\u001b[0m       \u001b[0mself\u001b[0m\u001b[1;33m.\u001b[0m\u001b[0m_self_setattr_tracking\u001b[0m \u001b[1;33m=\u001b[0m \u001b[0mprevious_value\u001b[0m  \u001b[1;31m# pylint: disable=protected-access\u001b[0m\u001b[1;33m\u001b[0m\u001b[1;33m\u001b[0m\u001b[0m\n",
      "\u001b[1;32mD:\\Anaconda3\\lib\\site-packages\\keras\\engine\\functional.py\u001b[0m in \u001b[0;36m_init_graph_network\u001b[1;34m(self, inputs, outputs)\u001b[0m\n\u001b[0;32m    190\u001b[0m \u001b[1;33m\u001b[0m\u001b[0m\n\u001b[0;32m    191\u001b[0m     \u001b[1;31m# Keep track of the network's nodes and layers.\u001b[0m\u001b[1;33m\u001b[0m\u001b[1;33m\u001b[0m\u001b[1;33m\u001b[0m\u001b[0m\n\u001b[1;32m--> 192\u001b[1;33m     nodes, nodes_by_depth, layers, _ = _map_graph_network(\n\u001b[0m\u001b[0;32m    193\u001b[0m         self.inputs, self.outputs)\n\u001b[0;32m    194\u001b[0m     \u001b[0mself\u001b[0m\u001b[1;33m.\u001b[0m\u001b[0m_network_nodes\u001b[0m \u001b[1;33m=\u001b[0m \u001b[0mnodes\u001b[0m\u001b[1;33m\u001b[0m\u001b[1;33m\u001b[0m\u001b[0m\n",
      "\u001b[1;32mD:\\Anaconda3\\lib\\site-packages\\keras\\engine\\functional.py\u001b[0m in \u001b[0;36m_map_graph_network\u001b[1;34m(inputs, outputs)\u001b[0m\n\u001b[0;32m    977\u001b[0m         \u001b[1;32mfor\u001b[0m \u001b[0mx\u001b[0m \u001b[1;32min\u001b[0m \u001b[0mtf\u001b[0m\u001b[1;33m.\u001b[0m\u001b[0mnest\u001b[0m\u001b[1;33m.\u001b[0m\u001b[0mflatten\u001b[0m\u001b[1;33m(\u001b[0m\u001b[0mnode\u001b[0m\u001b[1;33m.\u001b[0m\u001b[0mkeras_inputs\u001b[0m\u001b[1;33m)\u001b[0m\u001b[1;33m:\u001b[0m\u001b[1;33m\u001b[0m\u001b[1;33m\u001b[0m\u001b[0m\n\u001b[0;32m    978\u001b[0m           \u001b[1;32mif\u001b[0m \u001b[0mid\u001b[0m\u001b[1;33m(\u001b[0m\u001b[0mx\u001b[0m\u001b[1;33m)\u001b[0m \u001b[1;32mnot\u001b[0m \u001b[1;32min\u001b[0m \u001b[0mcomputable_tensors\u001b[0m\u001b[1;33m:\u001b[0m\u001b[1;33m\u001b[0m\u001b[1;33m\u001b[0m\u001b[0m\n\u001b[1;32m--> 979\u001b[1;33m             raise ValueError('Graph disconnected: '\n\u001b[0m\u001b[0;32m    980\u001b[0m                              \u001b[1;34m'cannot obtain value for tensor '\u001b[0m \u001b[1;33m+\u001b[0m \u001b[0mstr\u001b[0m\u001b[1;33m(\u001b[0m\u001b[0mx\u001b[0m\u001b[1;33m)\u001b[0m \u001b[1;33m+\u001b[0m\u001b[1;33m\u001b[0m\u001b[1;33m\u001b[0m\u001b[0m\n\u001b[0;32m    981\u001b[0m                              \u001b[1;34m' at layer \"'\u001b[0m \u001b[1;33m+\u001b[0m \u001b[0mlayer\u001b[0m\u001b[1;33m.\u001b[0m\u001b[0mname\u001b[0m \u001b[1;33m+\u001b[0m \u001b[1;34m'\". '\u001b[0m\u001b[1;33m\u001b[0m\u001b[1;33m\u001b[0m\u001b[0m\n",
      "\u001b[1;31mValueError\u001b[0m: Graph disconnected: cannot obtain value for tensor KerasTensor(type_spec=TensorSpec(shape=(None, 206), dtype=tf.float32, name='input_4'), name='input_4', description=\"created by layer 'input_4'\") at layer \"tf.expand_dims_1\". The following previous layers were accessed without issue: []"
     ]
    }
   ],
   "source": [
    "oof_pred = np.zeros((len(train),4))\n",
    "test_preds = np.zeros((len(test),4))\n",
    "\n",
    "y = train['label']\n",
    "x = train.drop('label',axis=1)\n",
    "kfold = StratifiedKFold(random_state=2021,n_splits=5,shuffle=True)\n",
    "\n",
    "new_test = DataGenerator(test,256)\n",
    "for kf,(train_idx,val_idx) in enumerate(kfold.split(x,y)):\n",
    "    print('#####第{}折####'.format(kf+1))\n",
    "    print('train len: {}'.format(len(train_idx)))\n",
    "    print('val len: {}'.format(len(val_idx)))\n",
    "    train_x = x.iloc[train_idx]\n",
    "    train_y = y.iloc[train_idx]\n",
    "    train_df = pd.concat([train_x,train_y],axis=1)\n",
    "    val_x = x.iloc[val_idx]\n",
    "    val_y = y.iloc[val_idx]\n",
    "    val_df = pd.concat([val_x,val_y],axis=1)\n",
    "\n",
    "    train_bt = DataGenerator(train_df,256)\n",
    "    val_bt = DataGenerator(val_df,256)\n",
    "    \n",
    "    #model = tf.keras.models.load_model('./data/model/best_model.h5')\n",
    "    model = build_model(feature_num=206)\n",
    "    model.compile(optimizer=tf.keras.optimizers.Adam(0.0009),loss='categorical_crossentropy',metrics='accuracy')\n",
    "    early_stopping = tf.keras.callbacks.EarlyStopping(monitor=\"val_acc\", patience=3, restore_best_weights=True)\n",
    "    lr_reduce = tf.keras.callbacks.ReduceLROnPlateau(patience=2,monitor='val_acc', factor=0.1)\n",
    "    best_checkpoint = tf.keras.callbacks.ModelCheckpoint(model_dir.format(kf+1),save_best_only=True, save_weights_only=False,verbose=1)\n",
    "    #model.fit(iter(train_bt),steps_per_epoch=len(train_bt),validation_data=iter(val_bt),validation_steps=len(val_bt),epochs=20,callbacks=[best_checkpoint,early_stopping,lr_reduce])\n",
    "    #model.save('./data/model/model_fold{}.h5'.format(kf))\n",
    "    model.fit_generator(generator=train_bt,\n",
    "                    steps_per_epoch=len(train_bt),\n",
    "                    epochs=10,\n",
    "                    verbose=1,\n",
    "                    validation_data=val_bt,\n",
    "                    validation_steps=len(val_bt),\n",
    "#                     use_multiprocessing=False,\n",
    "#                     workers=1,\n",
    "                    callbacks=[best_checkpoint,early_stopping,lr_reduce])\n",
    " \n",
    "    #重新加载当前折最优的模型\n",
    "    best_model = tf.keras.models.load_model(model_dir.format(kf+1))\n",
    "    \n",
    "    #验证集推理\n",
    "    val_pred =  best_model.predict(val_bt, steps=len(val_bt))\n",
    "    oof_pred[val_idx] = val_pred\n",
    "    \n",
    "    #测试集推理\n",
    "    test_pred =  best_model.predict(new_test, steps=len(new_test))\n",
    "    test_preds += test_pred\n",
    "    \n",
    "    \n",
    "#计算整体验证集得分\n",
    "y_true = train.label\n",
    "oof_pred = [np.argmax(i) for i in oof_pred]\n",
    "score = Macro_f1(y_true,oof_pred)\n",
    "print('多折验证集总体得分：{}'.format(score))"
   ]
  },
  {
   "cell_type": "markdown",
   "metadata": {},
   "source": [
    "# predict"
   ]
  },
  {
   "cell_type": "code",
   "execution_count": 18,
   "metadata": {},
   "outputs": [],
   "source": [
    "testpred = [np.argmax(i) for i in test_preds]"
   ]
  },
  {
   "cell_type": "code",
   "execution_count": 37,
   "metadata": {},
   "outputs": [
    {
     "data": {
      "text/plain": [
       "4292"
      ]
     },
     "execution_count": 37,
     "metadata": {},
     "output_type": "execute_result"
    }
   ],
   "source": [
    "len(testpred)"
   ]
  },
  {
   "cell_type": "code",
   "execution_count": 38,
   "metadata": {},
   "outputs": [
    {
     "data": {
      "text/plain": [
       "4292"
      ]
     },
     "execution_count": 38,
     "metadata": {},
     "output_type": "execute_result"
    }
   ],
   "source": [
    "test_df = pd.read_csv('./data/preliminary_submit_dataset_a.csv',index_col=0).reset_index()\n",
    "test_df = pd.merge(df[df.sn.isin(test_df.sn)],test_df, on='sn', how='left')\n",
    "res = test_df[['sn','fault_time']]\n",
    "len(res)"
   ]
  },
  {
   "cell_type": "code",
   "execution_count": 39,
   "metadata": {},
   "outputs": [
    {
     "name": "stderr",
     "output_type": "stream",
     "text": [
      "<ipython-input-39-c517768ffbeb>:1: SettingWithCopyWarning: \n",
      "A value is trying to be set on a copy of a slice from a DataFrame.\n",
      "Try using .loc[row_indexer,col_indexer] = value instead\n",
      "\n",
      "See the caveats in the documentation: https://pandas.pydata.org/pandas-docs/stable/user_guide/indexing.html#returning-a-view-versus-a-copy\n",
      "  res['label'] = testpred\n"
     ]
    }
   ],
   "source": [
    "res['label'] = testpred\n",
    "res = res.sort_values(['sn','fault_time'])\n",
    "res = res.drop_duplicates(['sn','fault_time'],keep='last')\n",
    "res.to_csv('./submit/submit_{}.csv'.format(round(score,4)), index=0)"
   ]
  },
  {
   "cell_type": "code",
   "execution_count": null,
   "metadata": {},
   "outputs": [],
   "source": []
  }
 ],
 "metadata": {
  "kernelspec": {
   "display_name": "Python 3",
   "language": "python",
   "name": "python3"
  },
  "language_info": {
   "codemirror_mode": {
    "name": "ipython",
    "version": 3
   },
   "file_extension": ".py",
   "mimetype": "text/x-python",
   "name": "python",
   "nbconvert_exporter": "python",
   "pygments_lexer": "ipython3",
   "version": "3.8.5"
  }
 },
 "nbformat": 4,
 "nbformat_minor": 5
}
